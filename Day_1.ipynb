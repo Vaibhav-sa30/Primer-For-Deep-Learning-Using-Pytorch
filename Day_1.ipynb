{
  "nbformat": 4,
  "nbformat_minor": 0,
  "metadata": {
    "colab": {
      "provenance": [],
      "authorship_tag": "ABX9TyNyyIgkR3TA6+j5SLIL8Uw5",
      "include_colab_link": true
    },
    "kernelspec": {
      "name": "python3",
      "display_name": "Python 3"
    },
    "language_info": {
      "name": "python"
    }
  },
  "cells": [
    {
      "cell_type": "markdown",
      "metadata": {
        "id": "view-in-github",
        "colab_type": "text"
      },
      "source": [
        "<a href=\"https://colab.research.google.com/github/Vaibhav-sa30/Primer-For-Deep-Learning-Using-Pytorch/blob/main/Day_1.ipynb\" target=\"_parent\"><img src=\"https://colab.research.google.com/assets/colab-badge.svg\" alt=\"Open In Colab\"/></a>"
      ]
    },
    {
      "cell_type": "code",
      "execution_count": 26,
      "metadata": {
        "id": "ZD_vlfqdpeW0"
      },
      "outputs": [],
      "source": [
        "import torch"
      ]
    },
    {
      "cell_type": "code",
      "source": [
        "from torch import tensor"
      ],
      "metadata": {
        "id": "Gp9zZaTpphm8"
      },
      "execution_count": 27,
      "outputs": []
    },
    {
      "cell_type": "code",
      "source": [
        "x = torch.randint(high = 4, size = (3,3), generator =torch.random.manual_seed(42))\n",
        "print(x)"
      ],
      "metadata": {
        "colab": {
          "base_uri": "https://localhost:8080/"
        },
        "id": "eun6a6AippDX",
        "outputId": "1a294885-67d6-4251-8be7-3a5c273a8146"
      },
      "execution_count": 44,
      "outputs": [
        {
          "output_type": "stream",
          "name": "stdout",
          "text": [
            "tensor([[2, 3, 0],\n",
            "        [2, 2, 3],\n",
            "        [0, 0, 2]])\n"
          ]
        }
      ]
    },
    {
      "cell_type": "code",
      "source": [
        "y = torch.randint(high = 4, size = (3,3), generator =torch.random.manual_seed(42))\n",
        "print(y)"
      ],
      "metadata": {
        "colab": {
          "base_uri": "https://localhost:8080/"
        },
        "id": "ulFl2a8wpqg1",
        "outputId": "763aedc6-7b79-43d8-9d49-6c59d2f20335"
      },
      "execution_count": 47,
      "outputs": [
        {
          "output_type": "stream",
          "name": "stdout",
          "text": [
            "tensor([[2, 3, 0],\n",
            "        [2, 2, 3],\n",
            "        [0, 0, 2]])\n"
          ]
        }
      ]
    },
    {
      "cell_type": "code",
      "source": [
        "z = torch.randint(high = 4, size = (3,3), generator =torch.random.manual_seed(42))\n",
        "print(z)"
      ],
      "metadata": {
        "colab": {
          "base_uri": "https://localhost:8080/"
        },
        "id": "_99DPDc-p6Is",
        "outputId": "b6b7d617-3c77-4c92-bc8e-12d42233cdcd"
      },
      "execution_count": 49,
      "outputs": [
        {
          "output_type": "stream",
          "name": "stdout",
          "text": [
            "tensor([[2, 3, 0],\n",
            "        [2, 2, 3],\n",
            "        [0, 0, 2]])\n"
          ]
        }
      ]
    },
    {
      "cell_type": "code",
      "source": [
        "print(x.shape)\n",
        "print(x.size())"
      ],
      "metadata": {
        "colab": {
          "base_uri": "https://localhost:8080/"
        },
        "id": "7VT89fdwp8KC",
        "outputId": "1efba45b-0c55-4343-ebbd-cdf337e42172"
      },
      "execution_count": 50,
      "outputs": [
        {
          "output_type": "stream",
          "name": "stdout",
          "text": [
            "torch.Size([3, 3])\n",
            "torch.Size([3, 3])\n"
          ]
        }
      ]
    },
    {
      "cell_type": "code",
      "source": [
        "print(x.ndimension())"
      ],
      "metadata": {
        "colab": {
          "base_uri": "https://localhost:8080/"
        },
        "id": "3wumiHGnqxAz",
        "outputId": "1f137e5a-f674-4003-8aec-f4f53bccf3ef"
      },
      "execution_count": 51,
      "outputs": [
        {
          "output_type": "stream",
          "name": "stdout",
          "text": [
            "2\n"
          ]
        }
      ]
    },
    {
      "cell_type": "code",
      "source": [
        "print(x.device)"
      ],
      "metadata": {
        "colab": {
          "base_uri": "https://localhost:8080/"
        },
        "id": "iAGi_A3Oqw9W",
        "outputId": "3e5d7122-2fe5-4bef-f1fa-de0a63d555b9"
      },
      "execution_count": 52,
      "outputs": [
        {
          "output_type": "stream",
          "name": "stdout",
          "text": [
            "cpu\n"
          ]
        }
      ]
    },
    {
      "cell_type": "markdown",
      "source": [
        "To check whether tensor is placed on cpu or gpu"
      ],
      "metadata": {
        "id": "ly9sKPS4simp"
      }
    },
    {
      "cell_type": "code",
      "source": [
        "b = x\n",
        "print(b is x)"
      ],
      "metadata": {
        "colab": {
          "base_uri": "https://localhost:8080/"
        },
        "id": "ce5ZHGS-qw6v",
        "outputId": "b9286542-70fa-460f-d1ff-5fa71779798b"
      },
      "execution_count": 53,
      "outputs": [
        {
          "output_type": "stream",
          "name": "stdout",
          "text": [
            "True\n"
          ]
        }
      ]
    },
    {
      "cell_type": "code",
      "source": [
        "print(b)\n",
        "print(x)"
      ],
      "metadata": {
        "colab": {
          "base_uri": "https://localhost:8080/"
        },
        "id": "VNoohRtIqw4H",
        "outputId": "b52dcd21-acf8-4846-8396-95d0daa45467"
      },
      "execution_count": 54,
      "outputs": [
        {
          "output_type": "stream",
          "name": "stdout",
          "text": [
            "tensor([[2, 3, 0],\n",
            "        [2, 2, 3],\n",
            "        [0, 0, 2]])\n",
            "tensor([[2, 3, 0],\n",
            "        [2, 2, 3],\n",
            "        [0, 0, 2]])\n"
          ]
        }
      ]
    },
    {
      "cell_type": "code",
      "source": [
        "b[0,0] = 0"
      ],
      "metadata": {
        "id": "RymnnJmqqw15"
      },
      "execution_count": 55,
      "outputs": []
    },
    {
      "cell_type": "code",
      "source": [
        "print(x)"
      ],
      "metadata": {
        "colab": {
          "base_uri": "https://localhost:8080/"
        },
        "id": "f19H2FC4p-lk",
        "outputId": "2c410977-316d-436e-f86c-cf72e2327180"
      },
      "execution_count": 56,
      "outputs": [
        {
          "output_type": "stream",
          "name": "stdout",
          "text": [
            "tensor([[0, 3, 0],\n",
            "        [2, 2, 3],\n",
            "        [0, 0, 2]])\n"
          ]
        }
      ]
    },
    {
      "cell_type": "markdown",
      "source": [
        "Change in one variable affects other. So be mindful of this."
      ],
      "metadata": {
        "id": "Dx5Eq7VstBlJ"
      }
    },
    {
      "cell_type": "code",
      "source": [
        "import copy"
      ],
      "metadata": {
        "id": "RHOX1LGJsf8P"
      },
      "execution_count": 57,
      "outputs": []
    },
    {
      "cell_type": "code",
      "source": [
        "b = copy.deepcopy(x)\n",
        "print(b is x)"
      ],
      "metadata": {
        "colab": {
          "base_uri": "https://localhost:8080/"
        },
        "id": "Kw7wrYWHsf43",
        "outputId": "d53748ac-79f1-42e9-a925-684edb195228"
      },
      "execution_count": 59,
      "outputs": [
        {
          "output_type": "stream",
          "name": "stdout",
          "text": [
            "False\n"
          ]
        }
      ]
    },
    {
      "cell_type": "markdown",
      "source": [
        "To negate we can use this"
      ],
      "metadata": {
        "id": "8y8EERJ5tqgB"
      }
    },
    {
      "cell_type": "code",
      "source": [
        "print(-1*x)"
      ],
      "metadata": {
        "id": "pPszXajUtHc7"
      },
      "execution_count": null,
      "outputs": []
    },
    {
      "cell_type": "markdown",
      "source": [
        "But we should use this. Because it actually changes binary representation of each elements. Without increasing computation."
      ],
      "metadata": {
        "id": "UA42iA_8tu4c"
      }
    },
    {
      "cell_type": "code",
      "source": [
        "print(x.neg())"
      ],
      "metadata": {
        "id": "sBn3DblxtHZY"
      },
      "execution_count": null,
      "outputs": []
    },
    {
      "cell_type": "markdown",
      "source": [
        "Apply an activation function"
      ],
      "metadata": {
        "id": "REDIOf7Atp-Z"
      }
    },
    {
      "cell_type": "code",
      "source": [
        "print(torch.sigmoid(x))"
      ],
      "metadata": {
        "colab": {
          "base_uri": "https://localhost:8080/"
        },
        "id": "ZtVIfes4tHWw",
        "outputId": "97fc96a2-29f1-495d-e190-95a045d7b6c5"
      },
      "execution_count": 60,
      "outputs": [
        {
          "output_type": "stream",
          "name": "stdout",
          "text": [
            "tensor([[0.5000, 0.9526, 0.5000],\n",
            "        [0.8808, 0.8808, 0.9526],\n",
            "        [0.5000, 0.5000, 0.8808]])\n"
          ]
        }
      ]
    },
    {
      "cell_type": "code",
      "source": [
        "print(x.T)"
      ],
      "metadata": {
        "colab": {
          "base_uri": "https://localhost:8080/"
        },
        "id": "3D16vVxMtHUO",
        "outputId": "f2ffeb83-eaa4-4491-98a3-8c669544d0ec"
      },
      "execution_count": 61,
      "outputs": [
        {
          "output_type": "stream",
          "name": "stdout",
          "text": [
            "tensor([[0, 2, 0],\n",
            "        [3, 2, 0],\n",
            "        [0, 3, 2]])\n"
          ]
        }
      ]
    },
    {
      "cell_type": "markdown",
      "source": [
        "Transposeing is a 2D operation. It is easy for 2D but will have to ask which face, if you're doing for higher dimensions"
      ],
      "metadata": {
        "id": "q8X4sVlhuO65"
      }
    },
    {
      "cell_type": "code",
      "source": [
        "print(torch.transpose(x, 0, 1))"
      ],
      "metadata": {
        "colab": {
          "base_uri": "https://localhost:8080/"
        },
        "id": "48b4lEUCtHRm",
        "outputId": "ab149a69-e7f1-4ae3-9eea-4d88060c2d94"
      },
      "execution_count": 64,
      "outputs": [
        {
          "output_type": "stream",
          "name": "stdout",
          "text": [
            "tensor([[0, 2, 0],\n",
            "        [3, 2, 0],\n",
            "        [0, 3, 2]])\n"
          ]
        }
      ]
    },
    {
      "cell_type": "code",
      "source": [],
      "metadata": {
        "id": "JVY_Eh1ttHO_"
      },
      "execution_count": null,
      "outputs": []
    },
    {
      "cell_type": "code",
      "source": [],
      "metadata": {
        "id": "5Aw59pVcu1aU"
      },
      "execution_count": null,
      "outputs": []
    },
    {
      "cell_type": "code",
      "source": [],
      "metadata": {
        "id": "9HVK441uu1Xe"
      },
      "execution_count": null,
      "outputs": []
    },
    {
      "cell_type": "code",
      "source": [],
      "metadata": {
        "id": "B-nYk5xxu1UG"
      },
      "execution_count": null,
      "outputs": []
    },
    {
      "cell_type": "code",
      "source": [],
      "metadata": {
        "id": "e8iyhyGXu1RW"
      },
      "execution_count": null,
      "outputs": []
    },
    {
      "cell_type": "code",
      "source": [],
      "metadata": {
        "id": "Ndn0l9Nzu1O1"
      },
      "execution_count": null,
      "outputs": []
    },
    {
      "cell_type": "code",
      "source": [],
      "metadata": {
        "id": "EfZEBI2Lu1MI"
      },
      "execution_count": null,
      "outputs": []
    },
    {
      "cell_type": "code",
      "source": [],
      "metadata": {
        "id": "OaccX2x5sf2P"
      },
      "execution_count": null,
      "outputs": []
    },
    {
      "cell_type": "code",
      "source": [],
      "metadata": {
        "id": "pXZvPM0Xsfzx"
      },
      "execution_count": null,
      "outputs": []
    }
  ]
}