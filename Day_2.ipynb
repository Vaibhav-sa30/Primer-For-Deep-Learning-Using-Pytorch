{
  "nbformat": 4,
  "nbformat_minor": 0,
  "metadata": {
    "colab": {
      "provenance": [],
      "authorship_tag": "ABX9TyNMAD+PlpvofvepQ6LCBxYQ",
      "include_colab_link": true
    },
    "kernelspec": {
      "name": "python3",
      "display_name": "Python 3"
    },
    "language_info": {
      "name": "python"
    }
  },
  "cells": [
    {
      "cell_type": "markdown",
      "metadata": {
        "id": "view-in-github",
        "colab_type": "text"
      },
      "source": [
        "<a href=\"https://colab.research.google.com/github/Vaibhav-sa30/Primer-For-Deep-Learning-Using-Pytorch/blob/main/Day_2.ipynb\" target=\"_parent\"><img src=\"https://colab.research.google.com/assets/colab-badge.svg\" alt=\"Open In Colab\"/></a>"
      ]
    },
    {
      "cell_type": "markdown",
      "source": [
        "# Working with Image Dataset"
      ],
      "metadata": {
        "id": "VK3B8icVenCD"
      }
    },
    {
      "cell_type": "code",
      "execution_count": 2,
      "metadata": {
        "id": "7vxhb9dVd-kl"
      },
      "outputs": [],
      "source": [
        "import numpy as np\n",
        "import torch\n",
        "from torch import tensor\n",
        "import torch.nn as nn\n",
        "import torch.nn.functional as F\n",
        "import torch.optim as optim\n",
        "import matplotlib.pyplot as plt\n",
        "import torchvision\n",
        "import torchvision.transforms as transforms\n",
        "from torchvision import datasets"
      ]
    },
    {
      "cell_type": "code",
      "source": [
        "x = tensor([1.0])\n",
        "w = torch.tensor(-0.5)\n",
        "b = torch.tensor(1.0, )\n",
        "z = w*x+b\n",
        "y = torch.sigmoid(z)\n",
        "print(z)\n",
        "print(y)"
      ],
      "metadata": {
        "colab": {
          "base_uri": "https://localhost:8080/"
        },
        "id": "ONterCl8uwIc",
        "outputId": "3d7c3ea3-baf6-4366-9ed2-f7fa83d52a90"
      },
      "execution_count": 3,
      "outputs": [
        {
          "output_type": "stream",
          "name": "stdout",
          "text": [
            "tensor([0.5000])\n",
            "tensor([0.6225])\n"
          ]
        }
      ]
    },
    {
      "cell_type": "markdown",
      "source": [
        "Let's build a simple model\n"
      ],
      "metadata": {
        "id": "LTcWVB6avJ0R"
      }
    },
    {
      "cell_type": "code",
      "source": [
        "w = torch.tensor(-0.8, requires_grad = True)\n",
        "b = torch.tensor(0.0, requires_grad = True)\n",
        "\n",
        "z = w*x + b\n",
        "y_hat = torch.sigmoid(z)\n",
        "print(y_hat)\n",
        "\n",
        "Loss = 0.5*(y_hat-y)**2\n",
        "\n",
        "print(Loss)\n",
        "\n",
        "Loss.backward()"
      ],
      "metadata": {
        "id": "aNkAR0nvvJDy",
        "colab": {
          "base_uri": "https://localhost:8080/"
        },
        "outputId": "ee949baf-9b7d-4e8f-ad2b-eff056f51526"
      },
      "execution_count": 4,
      "outputs": [
        {
          "output_type": "stream",
          "name": "stdout",
          "text": [
            "tensor([0.3100], grad_fn=<SigmoidBackward0>)\n",
            "tensor([0.0488], grad_fn=<MulBackward0>)\n"
          ]
        }
      ]
    },
    {
      "cell_type": "code",
      "source": [
        "w.grad"
      ],
      "metadata": {
        "colab": {
          "base_uri": "https://localhost:8080/"
        },
        "id": "6CUCfDm7nbIQ",
        "outputId": "494318e9-dc4f-436c-a73d-b026e5d14442"
      },
      "execution_count": 5,
      "outputs": [
        {
          "output_type": "execute_result",
          "data": {
            "text/plain": [
              "tensor(-0.0668)"
            ]
          },
          "metadata": {},
          "execution_count": 5
        }
      ]
    },
    {
      "cell_type": "code",
      "source": [
        "b.grad"
      ],
      "metadata": {
        "colab": {
          "base_uri": "https://localhost:8080/"
        },
        "id": "rXVrqkoPnt1t",
        "outputId": "59cc8f96-1cdc-4f64-e41e-d85ebd6dc5d5"
      },
      "execution_count": 6,
      "outputs": [
        {
          "output_type": "execute_result",
          "data": {
            "text/plain": [
              "tensor(-0.0668)"
            ]
          },
          "metadata": {},
          "execution_count": 6
        }
      ]
    },
    {
      "cell_type": "code",
      "source": [
        "#True Function\n",
        "x = tensor([1.0])\n",
        "w_true = torch.tensor(-0.5)\n",
        "b_true = torch.tensor(1.0,)\n",
        "z = w_true*x + b_true\n",
        "y = torch.sigmoid(z)\n",
        "\n",
        "#Build a model\n",
        "w = torch.tensor(-1.8, requires_grad = True)\n",
        "b = torch.tensor(0.0, requires_grad = True)\n",
        "eta = tensor(1.0)\n",
        "loss = []\n",
        "\n",
        "for i in range(10):\n",
        "  #forward prop\n",
        "  z = w*x+b\n",
        "  y_hat = torch.sigmoid(z)\n",
        "\n",
        "\n",
        "  #compute loss\n",
        "  L = 0.5*torch.pow((y_hat), 2)\n",
        "  loss.append(L.item())\n",
        "\n",
        "  #Backpropp\n",
        "  L.backward()\n",
        "  print(w.item())\n",
        "\n",
        "  #update parameter\n",
        "  with torch.no_grad():\n",
        "    w -= eta*w.grad\n",
        "    b -= eta*b.grad\n",
        "\n",
        "  #Zero the gradients, otherwise it keeps accumulating\n",
        "  w.grad.zero_()\n",
        "  b.grad.zero_()"
      ],
      "metadata": {
        "colab": {
          "base_uri": "https://localhost:8080/"
        },
        "id": "OdZ3fjhwoenv",
        "outputId": "30ea413a-55bd-4da0-e5bd-3861e84143cf"
      },
      "execution_count": 7,
      "outputs": [
        {
          "output_type": "stream",
          "name": "stdout",
          "text": [
            "-1.7999999523162842\n",
            "-1.8172674179077148\n",
            "-1.8336174488067627\n",
            "-1.849137783050537\n",
            "-1.863904356956482\n",
            "-1.877983570098877\n",
            "-1.891433596611023\n",
            "-1.9043056964874268\n",
            "-1.9166452884674072\n",
            "-1.928492784500122\n"
          ]
        }
      ]
    },
    {
      "cell_type": "markdown",
      "source": [
        "Let's see what are the available datasets"
      ],
      "metadata": {
        "id": "cSM9UznOfB8s"
      }
    },
    {
      "cell_type": "code",
      "source": [
        "print(dir(torchvision.datasets))"
      ],
      "metadata": {
        "colab": {
          "base_uri": "https://localhost:8080/"
        },
        "id": "8ZZ8pNkee6Rz",
        "outputId": "12a9aa6f-b9cc-4b64-84be-292879c50101"
      },
      "execution_count": 8,
      "outputs": [
        {
          "output_type": "stream",
          "name": "stdout",
          "text": [
            "['CIFAR10', 'CIFAR100', 'CLEVRClassification', 'CREStereo', 'Caltech101', 'Caltech256', 'CarlaStereo', 'CelebA', 'Cityscapes', 'CocoCaptions', 'CocoDetection', 'Country211', 'DTD', 'DatasetFolder', 'EMNIST', 'ETH3DStereo', 'EuroSAT', 'FER2013', 'FGVCAircraft', 'FakeData', 'FallingThingsStereo', 'FashionMNIST', 'Flickr30k', 'Flickr8k', 'Flowers102', 'FlyingChairs', 'FlyingThings3D', 'Food101', 'GTSRB', 'HD1K', 'HMDB51', 'INaturalist', 'ImageFolder', 'ImageNet', 'InStereo2k', 'KMNIST', 'Kinetics', 'Kitti', 'Kitti2012Stereo', 'Kitti2015Stereo', 'KittiFlow', 'LFWPairs', 'LFWPeople', 'LSUN', 'LSUNClass', 'MNIST', 'Middlebury2014Stereo', 'MovingMNIST', 'Omniglot', 'OxfordIIITPet', 'PCAM', 'PhotoTour', 'Places365', 'QMNIST', 'RenderedSST2', 'SBDataset', 'SBU', 'SEMEION', 'STL10', 'SUN397', 'SVHN', 'SceneFlowStereo', 'Sintel', 'SintelStereo', 'StanfordCars', 'UCF101', 'USPS', 'VOCDetection', 'VOCSegmentation', 'VisionDataset', 'WIDERFace', '__all__', '__builtins__', '__cached__', '__doc__', '__file__', '__getattr__', '__loader__', '__name__', '__package__', '__path__', '__spec__', '_optical_flow', '_stereo_matching', 'caltech', 'celeba', 'cifar', 'cityscapes', 'clevr', 'coco', 'country211', 'dtd', 'eurosat', 'fakedata', 'fer2013', 'fgvc_aircraft', 'flickr', 'flowers102', 'folder', 'food101', 'gtsrb', 'hmdb51', 'imagenet', 'inaturalist', 'kinetics', 'kitti', 'lfw', 'lsun', 'mnist', 'moving_mnist', 'omniglot', 'oxford_iiit_pet', 'pcam', 'phototour', 'places365', 'rendered_sst2', 'sbd', 'sbu', 'semeion', 'stanford_cars', 'stl10', 'sun397', 'svhn', 'ucf101', 'usps', 'utils', 'video_utils', 'vision', 'voc', 'widerface']\n"
          ]
        }
      ]
    },
    {
      "cell_type": "markdown",
      "source": [
        "Let's load the first dataset: CIFAR10"
      ],
      "metadata": {
        "id": "IQRygeeefSFI"
      }
    },
    {
      "cell_type": "code",
      "source": [
        "transform  = transforms.Compose(\n",
        "    [transforms.ToTensor(), #Converting image to pytorch tensor\n",
        "     transforms.Normalize((0.5, 0.5, 0.5), (0.5, 0.5, 0.5))] #Normalize((#mean), (#var))\n",
        ")\n",
        "\n",
        "trainset = torchvision.datasets.CIFAR10(root = './data', train = True,\n",
        "                                        download = True, transform = transform)\n",
        "\n",
        "testset = torchvision.datasets.CIFAR10(root = './data', train = False,\n",
        "                                       download = True, transform = transform)\n"
      ],
      "metadata": {
        "colab": {
          "base_uri": "https://localhost:8080/"
        },
        "id": "R9PYgHvgfHyS",
        "outputId": "39aa07fd-5535-4769-e601-e167c60fe5d0"
      },
      "execution_count": 9,
      "outputs": [
        {
          "output_type": "stream",
          "name": "stdout",
          "text": [
            "Downloading https://www.cs.toronto.edu/~kriz/cifar-10-python.tar.gz to ./data/cifar-10-python.tar.gz\n"
          ]
        },
        {
          "output_type": "stream",
          "name": "stderr",
          "text": [
            "100%|██████████| 170498071/170498071 [00:02<00:00, 69874509.10it/s]\n"
          ]
        },
        {
          "output_type": "stream",
          "name": "stdout",
          "text": [
            "Extracting ./data/cifar-10-python.tar.gz to ./data\n",
            "Files already downloaded and verified\n"
          ]
        }
      ]
    },
    {
      "cell_type": "code",
      "source": [
        "print(trainset.classes)"
      ],
      "metadata": {
        "colab": {
          "base_uri": "https://localhost:8080/"
        },
        "id": "j5uyTai1hlBk",
        "outputId": "a9730ac2-a345-4289-bf33-69cc2b128d7e"
      },
      "execution_count": 10,
      "outputs": [
        {
          "output_type": "stream",
          "name": "stdout",
          "text": [
            "['airplane', 'automobile', 'bird', 'cat', 'deer', 'dog', 'frog', 'horse', 'ship', 'truck']\n"
          ]
        }
      ]
    },
    {
      "cell_type": "code",
      "source": [
        "print(trainset.data.shape)"
      ],
      "metadata": {
        "colab": {
          "base_uri": "https://localhost:8080/"
        },
        "id": "cwLuZKJAiAma",
        "outputId": "f2f24c74-6a28-42e1-ed78-dc63b379d5b3"
      },
      "execution_count": 11,
      "outputs": [
        {
          "output_type": "stream",
          "name": "stdout",
          "text": [
            "(50000, 32, 32, 3)\n"
          ]
        }
      ]
    },
    {
      "cell_type": "code",
      "source": [
        "print(trainset)"
      ],
      "metadata": {
        "colab": {
          "base_uri": "https://localhost:8080/"
        },
        "id": "wO5P44AbiDxu",
        "outputId": "12d6870a-80fd-4962-83a6-2c49bdd0b032"
      },
      "execution_count": 12,
      "outputs": [
        {
          "output_type": "stream",
          "name": "stdout",
          "text": [
            "Dataset CIFAR10\n",
            "    Number of datapoints: 50000\n",
            "    Root location: ./data\n",
            "    Split: Train\n",
            "    StandardTransform\n",
            "Transform: Compose(\n",
            "               ToTensor()\n",
            "               Normalize(mean=(0.5, 0.5, 0.5), std=(0.5, 0.5, 0.5))\n",
            "           )\n"
          ]
        }
      ]
    },
    {
      "cell_type": "code",
      "source": [
        "classes = ('airplane', 'automobile', 'bird', 'cat', 'deer', 'dog', 'frog', 'horse', 'ship', 'truck')\n",
        "\n",
        "from torch.utils.data import DataLoader"
      ],
      "metadata": {
        "id": "O0mNkNnuiGpa"
      },
      "execution_count": 13,
      "outputs": []
    },
    {
      "cell_type": "code",
      "source": [
        "trainloader = DataLoader(trainset, batch_size = 4, shuffle = True)\n",
        "testloader = DataLoader(testset, batch_size = 4, shuffle = False)\n"
      ],
      "metadata": {
        "id": "VIdCoYvTir1Y"
      },
      "execution_count": 14,
      "outputs": []
    },
    {
      "cell_type": "code",
      "source": [
        "x_train = iter(trainloader)"
      ],
      "metadata": {
        "id": "Ph-545iWkBqw"
      },
      "execution_count": 15,
      "outputs": []
    },
    {
      "cell_type": "code",
      "source": [
        "imgs, labels = next(x_train)\n",
        "\n",
        "fig, ax = plt.subplots(1,4, figsize = (8,10))\n",
        "i = 0\n",
        "\n",
        "for img, label in zip(imgs, labels):\n",
        "  img = img/2 + 0.5\n",
        "  npimg = img.numpy()\n",
        "  ax[i].imshow(np.transpose(npimg, (1,2,0)))\n",
        "  ax[i].set_xlabel(classes[label])\n",
        "  i += 1"
      ],
      "metadata": {
        "colab": {
          "base_uri": "https://localhost:8080/",
          "height": 218
        },
        "id": "u-jXaK7CkI7w",
        "outputId": "8800d87b-9ac0-4d29-9c02-b3c7cde407dc"
      },
      "execution_count": 16,
      "outputs": [
        {
          "output_type": "display_data",
          "data": {
            "text/plain": [
              "<Figure size 800x1000 with 4 Axes>"
            ],
            "image/png": "[encoded data removed]"
          },
          "metadata": {}
        }
      ]
    },
    {
      "cell_type": "markdown",
      "source": [
        "`img = img/2 + 0.5`\n",
        "\n",
        "\n",
        "\n",
        "1. Normalization: Dividing by 2 scales the pixel values to a range of [0, 0.5]. Then, adding 0.5 shifts this range to [0.5, 1.0]. This normalization is useful because it brings the pixel values into a more appropriate range for many machine learning algorithms. The range [0, 1] is common for images and can help the model converge faster during training.\n",
        "\n",
        "2. Zero-Centering: By adding 0.5, you effectively shift the pixel values from being centered around 0 (e.g., ranging from -0.5 to 0.5) to being centered around 0.5 (e.g., ranging from 0 to 1). This can help reduce bias and make the data more suitable for certain algorithms, especially if they have activation functions that behave better with positive inputs.\n",
        "\n",
        "3. Enhancing Contrast: The transformation can also enhance the contrast of the image. Since it stretches the original pixel values, it can make the differences in brightness and color more noticeable.\n",
        "\n",
        "Overall, this preprocessing step is commonly used to prepare images for machine learning tasks, especially deep learning, as it helps with training stability and performance."
      ],
      "metadata": {
        "id": "ACdxEGklpZH-"
      }
    },
    {
      "cell_type": "code",
      "source": [
        "  x_train, y_train  = torch.tensor(trainset.data[:100], dtype = torch.float64), torch.tensor(trainset.targets[:100])\n",
        "\n",
        "  x_train = x_train/x_train.max()"
      ],
      "metadata": {
        "id": "jXBD5fNlliAx"
      },
      "execution_count": 17,
      "outputs": []
    },
    {
      "cell_type": "code",
      "source": [
        "np.unique(y_train)"
      ],
      "metadata": {
        "colab": {
          "base_uri": "https://localhost:8080/"
        },
        "id": "gwr89qdKpsNx",
        "outputId": "92ce4aeb-e869-4d69-a1c2-462eded773a9"
      },
      "execution_count": 18,
      "outputs": [
        {
          "output_type": "execute_result",
          "data": {
            "text/plain": [
              "array([0, 1, 2, 3, 4, 5, 6, 7, 8, 9])"
            ]
          },
          "metadata": {},
          "execution_count": 18
        }
      ]
    },
    {
      "cell_type": "code",
      "source": [
        "y_train_ohe = F.one_hot(y_train, num_classes = 10).type(torch.float32)\n",
        "\n",
        "print(y_train[0], y_train_ohe[0])"
      ],
      "metadata": {
        "colab": {
          "base_uri": "https://localhost:8080/"
        },
        "id": "e88gayZxtnCF",
        "outputId": "c31121d4-b7dc-4eff-ddef-e96cf542a06b"
      },
      "execution_count": 19,
      "outputs": [
        {
          "output_type": "stream",
          "name": "stdout",
          "text": [
            "tensor(6) tensor([0., 0., 0., 0., 0., 0., 1., 0., 0., 0.])\n"
          ]
        }
      ]
    },
    {
      "cell_type": "code",
      "source": [
        "class FFN(nn.Module):\n",
        "\n",
        "  def __init__(self):\n",
        "    super(FFN, self).__init__()\n",
        "    self.a1 = nn.Linear(32*32*3, 1024)\n",
        "    self.a2 = nn.Linear(1024, 10)\n",
        "\n",
        "  def forward(self, x):\n",
        "    h1 = torch.relu(self.a1(x.reshape(1, 32*32*3)))\n",
        "    h2 = self.a2(h1)\n",
        "    return h2"
      ],
      "metadata": {
        "id": "yzljxilCvqr3"
      },
      "execution_count": 22,
      "outputs": []
    },
    {
      "cell_type": "code",
      "source": [
        "#Instantiate The Model\n",
        "model = FFN()"
      ],
      "metadata": {
        "id": "THQwactkw_vA"
      },
      "execution_count": 24,
      "outputs": []
    },
    {
      "cell_type": "code",
      "source": [
        "from sklearn.preprocessing import MinMaxScaler\n",
        "\n",
        "scaler = MinMaxScaler()\n",
        "\n",
        "w1,b1,w2,b2 = list(model.parameters())\n",
        "weights = scaler.fit_transform(w1.detach().numpy())\n",
        "plt.imshow(weights[0,:].reshape(32,32,3))\n",
        "plt.colorbar()\n",
        "plt.show()"
      ],
      "metadata": {
        "colab": {
          "base_uri": "https://localhost:8080/",
          "height": 453
        },
        "id": "PXxdL1Bwmltd",
        "outputId": "da98bf8e-ea74-44a8-86b2-06c972eb8f2f"
      },
      "execution_count": 26,
      "outputs": [
        {
          "output_type": "stream",
          "name": "stderr",
          "text": [
            "WARNING:matplotlib.image:Clipping input data to the valid range for imshow with RGB data ([0..1] for floats or [0..255] for integers).\n"
          ]
        },
        {
          "output_type": "display_data",
          "data": {
            "text/plain": [
              "<Figure size 640x480 with 2 Axes>"
            ],
            "image/png": "[encoded data removed]"
          },
          "metadata": {}
        }
      ]
    },
    {
      "cell_type": "code",
      "source": [
        "from sklearn.metrics import accuracy_score"
      ],
      "metadata": {
        "id": "kLOrTCGKoWPR"
      },
      "execution_count": 27,
      "outputs": []
    },
    {
      "cell_type": "code",
      "source": [
        "epochs = 30\n",
        "\n",
        "criterion = nn.CrossEntropyLoss()\n",
        "optimizer = optim.SGD(model.parameters(), lr = 0.00001, momentum = 0)\n",
        "\n",
        "def train(x_train, model, optimizer, criterion):\n",
        "  loss_trace = []\n",
        "  accuracy = []\n",
        "  for epoch in range(epochs):\n",
        "    y_pred = []\n",
        "\n",
        "    # Forward prop all training samples and accumulate gradients\n",
        "    for i in range(0, len(x_train)):\n",
        "      out =  model(x_train[i])\n",
        "      y_pred.append(torch.argmax(out).item())\n",
        "      loss = criterion(out, y_train[i, None])\n",
        "\n",
        "      loss.backward()\n",
        "\n",
        "      #udpate parameters\n",
        "      optimizer.step()\n",
        "      optimizer.zero_grad\n",
        "\n",
        "    accuracy.append(accuracy_score(y_train, y_pred))\n",
        "    loss_trace.append(loss.detach().item())\n"
      ],
      "metadata": {
        "id": "xT8lnBNNo5St"
      },
      "execution_count": null,
      "outputs": []
    }
  ]
}