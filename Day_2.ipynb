{
  "nbformat": 4,
  "nbformat_minor": 0,
  "metadata": {
    "colab": {
      "provenance": [],
      "authorship_tag": "ABX9TyPr4umrMF3C8ieU7jnNqwkT",
      "include_colab_link": true
    },
    "kernelspec": {
      "name": "python3",
      "display_name": "Python 3"
    },
    "language_info": {
      "name": "python"
    }
  },
  "cells": [
    {
      "cell_type": "markdown",
      "metadata": {
        "id": "view-in-github",
        "colab_type": "text"
      },
      "source": [
        "<a href=\"https://colab.research.google.com/github/Vaibhav-sa30/Primer-For-Deep-Learning-Using-Pytorch/blob/main/Day_2.ipynb\" target=\"_parent\"><img src=\"https://colab.research.google.com/assets/colab-badge.svg\" alt=\"Open In Colab\"/></a>"
      ]
    },
    {
      "cell_type": "markdown",
      "source": [
        "# Working with Image Dataset"
      ],
      "metadata": {
        "id": "VK3B8icVenCD"
      }
    },
    {
      "cell_type": "code",
      "execution_count": null,
      "metadata": {
        "id": "7vxhb9dVd-kl"
      },
      "outputs": [],
      "source": [
        "import numpy as np\n",
        "import torch\n",
        "from torch import tensor\n",
        "import torch.nn as nn\n",
        "import torch.nn.functional as F\n",
        "import torch.optim as optim\n",
        "import matplotlib.pyplot as plt\n",
        "import torchvision\n",
        "import torchvision.transforms as transforms\n",
        "from torchvision import datasets"
      ]
    },
    {
      "cell_type": "code",
      "source": [
        "x = tensor([1.0])\n",
        "w = torch.tensor(-0.5)\n",
        "b = torch.tensor(1.0, )\n",
        "z = w*x+b\n",
        "y = torch.sigmoid(z)\n",
        "print(y)"
      ],
      "metadata": {
        "colab": {
          "base_uri": "https://localhost:8080/"
        },
        "id": "ONterCl8uwIc",
        "outputId": "5a863276-ad21-413e-9afb-2c4dfc02e6fb"
      },
      "execution_count": null,
      "outputs": [
        {
          "output_type": "stream",
          "name": "stdout",
          "text": [
            "tensor([0.6225])\n"
          ]
        }
      ]
    },
    {
      "cell_type": "markdown",
      "source": [
        "Let's build a simple model\n"
      ],
      "metadata": {
        "id": "LTcWVB6avJ0R"
      }
    },
    {
      "cell_type": "code",
      "source": [
        "w = torch.tensor(-0.8, requires_grad = True)\n",
        "b = torch.tensor(0.0, requires_grad = True)\n",
        "\n",
        "z = w*x + b\n",
        "y_hat = torch.sigmoid(z)\n",
        "print(y_hat)\n"
      ],
      "metadata": {
        "id": "aNkAR0nvvJDy"
      },
      "execution_count": null,
      "outputs": []
    },
    {
      "cell_type": "markdown",
      "source": [
        "Let's see what are the available datasets"
      ],
      "metadata": {
        "id": "cSM9UznOfB8s"
      }
    },
    {
      "cell_type": "code",
      "source": [
        "print(dir(torchvision.datasets))"
      ],
      "metadata": {
        "colab": {
          "base_uri": "https://localhost:8080/"
        },
        "id": "8ZZ8pNkee6Rz",
        "outputId": "fd44f304-9f68-485d-c6b8-96af42f05658"
      },
      "execution_count": null,
      "outputs": [
        {
          "output_type": "stream",
          "name": "stdout",
          "text": [
            "['CIFAR10', 'CIFAR100', 'CLEVRClassification', 'CREStereo', 'Caltech101', 'Caltech256', 'CarlaStereo', 'CelebA', 'Cityscapes', 'CocoCaptions', 'CocoDetection', 'Country211', 'DTD', 'DatasetFolder', 'EMNIST', 'ETH3DStereo', 'EuroSAT', 'FER2013', 'FGVCAircraft', 'FakeData', 'FallingThingsStereo', 'FashionMNIST', 'Flickr30k', 'Flickr8k', 'Flowers102', 'FlyingChairs', 'FlyingThings3D', 'Food101', 'GTSRB', 'HD1K', 'HMDB51', 'INaturalist', 'ImageFolder', 'ImageNet', 'InStereo2k', 'KMNIST', 'Kinetics', 'Kitti', 'Kitti2012Stereo', 'Kitti2015Stereo', 'KittiFlow', 'LFWPairs', 'LFWPeople', 'LSUN', 'LSUNClass', 'MNIST', 'Middlebury2014Stereo', 'MovingMNIST', 'Omniglot', 'OxfordIIITPet', 'PCAM', 'PhotoTour', 'Places365', 'QMNIST', 'RenderedSST2', 'SBDataset', 'SBU', 'SEMEION', 'STL10', 'SUN397', 'SVHN', 'SceneFlowStereo', 'Sintel', 'SintelStereo', 'StanfordCars', 'UCF101', 'USPS', 'VOCDetection', 'VOCSegmentation', 'VisionDataset', 'WIDERFace', '__all__', '__builtins__', '__cached__', '__doc__', '__file__', '__getattr__', '__loader__', '__name__', '__package__', '__path__', '__spec__', '_optical_flow', '_stereo_matching', 'caltech', 'celeba', 'cifar', 'cityscapes', 'clevr', 'coco', 'country211', 'dtd', 'eurosat', 'fakedata', 'fer2013', 'fgvc_aircraft', 'flickr', 'flowers102', 'folder', 'food101', 'gtsrb', 'hmdb51', 'imagenet', 'inaturalist', 'kinetics', 'kitti', 'lfw', 'lsun', 'mnist', 'moving_mnist', 'omniglot', 'oxford_iiit_pet', 'pcam', 'phototour', 'places365', 'rendered_sst2', 'sbd', 'sbu', 'semeion', 'stanford_cars', 'stl10', 'sun397', 'svhn', 'ucf101', 'usps', 'utils', 'video_utils', 'vision', 'voc', 'widerface']\n"
          ]
        }
      ]
    },
    {
      "cell_type": "markdown",
      "source": [
        "Let's load the first dataset: CIFAR10"
      ],
      "metadata": {
        "id": "IQRygeeefSFI"
      }
    },
    {
      "cell_type": "code",
      "source": [
        "transform  = transforms.Compose(\n",
        "    [transforms.ToTensor(), #Converting image to pytorch tensor\n",
        "     transforms.Normalize((0.5, 0.5, 0.5), (0.5, 0.5, 0.5))] #Normalize((#mean), (#var))\n",
        ")\n",
        "\n",
        "trainset = torchvision.datasets.CIFAR10(root = './data', train = True,\n",
        "                                        download = True, transform = transform)\n",
        "\n",
        "testset = torchvision.datasets.CIFAR10(root = './data', train = False,\n",
        "                                       download = True, transform = transform)\n"
      ],
      "metadata": {
        "colab": {
          "base_uri": "https://localhost:8080/"
        },
        "id": "R9PYgHvgfHyS",
        "outputId": "46f94cec-6dba-4144-fb26-3ff85a292b16"
      },
      "execution_count": null,
      "outputs": [
        {
          "output_type": "stream",
          "name": "stdout",
          "text": [
            "Downloading https://www.cs.toronto.edu/~kriz/cifar-10-python.tar.gz to ./data/cifar-10-python.tar.gz\n"
          ]
        },
        {
          "output_type": "stream",
          "name": "stderr",
          "text": [
            "100%|██████████| 170498071/170498071 [00:01<00:00, 97994862.26it/s] \n"
          ]
        },
        {
          "output_type": "stream",
          "name": "stdout",
          "text": [
            "Extracting ./data/cifar-10-python.tar.gz to ./data\n",
            "Files already downloaded and verified\n"
          ]
        }
      ]
    },
    {
      "cell_type": "code",
      "source": [
        "print(trainset.classes)"
      ],
      "metadata": {
        "colab": {
          "base_uri": "https://localhost:8080/"
        },
        "id": "j5uyTai1hlBk",
        "outputId": "cba5e800-065b-495a-df2b-ffd3c499b4b4"
      },
      "execution_count": null,
      "outputs": [
        {
          "output_type": "stream",
          "name": "stdout",
          "text": [
            "['airplane', 'automobile', 'bird', 'cat', 'deer', 'dog', 'frog', 'horse', 'ship', 'truck']\n"
          ]
        }
      ]
    },
    {
      "cell_type": "code",
      "source": [
        "print(trainset.data.shape)"
      ],
      "metadata": {
        "colab": {
          "base_uri": "https://localhost:8080/"
        },
        "id": "cwLuZKJAiAma",
        "outputId": "804e5b37-5b4c-4a6b-ce03-fc94195b8c48"
      },
      "execution_count": null,
      "outputs": [
        {
          "output_type": "stream",
          "name": "stdout",
          "text": [
            "(50000, 32, 32, 3)\n"
          ]
        }
      ]
    },
    {
      "cell_type": "code",
      "source": [
        "print(trainset)"
      ],
      "metadata": {
        "colab": {
          "base_uri": "https://localhost:8080/"
        },
        "id": "wO5P44AbiDxu",
        "outputId": "f6c24bb9-e241-401f-828a-7cd42ec7e714"
      },
      "execution_count": null,
      "outputs": [
        {
          "output_type": "stream",
          "name": "stdout",
          "text": [
            "Dataset CIFAR10\n",
            "    Number of datapoints: 50000\n",
            "    Root location: ./data\n",
            "    Split: Train\n",
            "    StandardTransform\n",
            "Transform: Compose(\n",
            "               ToTensor()\n",
            "               Normalize(mean=(0.5, 0.5, 0.5), std=(0.5, 0.5, 0.5))\n",
            "           )\n"
          ]
        }
      ]
    },
    {
      "cell_type": "code",
      "source": [
        "classes = ('airplane', 'automobile', 'bird', 'cat', 'deer', 'dog', 'frog', 'horse', 'ship', 'truck')\n",
        "\n",
        "from torch.utils.data import DataLoader"
      ],
      "metadata": {
        "id": "O0mNkNnuiGpa"
      },
      "execution_count": null,
      "outputs": []
    },
    {
      "cell_type": "code",
      "source": [
        "trainloader = DataLoader(trainset, batch_size = 4, shuffle = True)\n",
        "testloader = DataLoader(testset, batch_size = 4, shuffle = False)\n"
      ],
      "metadata": {
        "id": "VIdCoYvTir1Y"
      },
      "execution_count": null,
      "outputs": []
    },
    {
      "cell_type": "code",
      "source": [
        "x_train = iter(trainloader)"
      ],
      "metadata": {
        "id": "Ph-545iWkBqw"
      },
      "execution_count": null,
      "outputs": []
    },
    {
      "cell_type": "code",
      "source": [
        "imgs, labels = next(x_train)\n",
        "\n",
        "fig, ax = plt.subplots(1,4, figsize = (8,10))\n",
        "i = 0\n",
        "\n",
        "for img, label in zip(imgs, labels):\n",
        "  img = img/2 + 0.5\n",
        "  npimg = img.numpy()\n",
        "  ax[i].imshow(np.transpose(npimg, (1,2,0)))\n",
        "  ax[i].set_xlabel(classes[label])\n",
        "  i += 1"
      ],
      "metadata": {
        "colab": {
          "base_uri": "https://localhost:8080/",
          "height": 218
        },
        "id": "u-jXaK7CkI7w",
        "outputId": "ac9e2a66-084d-483c-ca1f-5aab043dba75"
      },
      "execution_count": null,
      "outputs": [
        {
          "output_type": "display_data",
          "data": {
            "text/plain": [
              "<Figure size 800x1000 with 4 Axes>"
            ],
            "image/png": "[encoded data removed]"
          },
          "metadata": {}
        }
      ]
    },
    {
      "cell_type": "markdown",
      "source": [
        "`img = img/2 + 0.5`\n",
        "\n",
        "\n",
        "\n",
        "1. Normalization: Dividing by 2 scales the pixel values to a range of [0, 0.5]. Then, adding 0.5 shifts this range to [0.5, 1.0]. This normalization is useful because it brings the pixel values into a more appropriate range for many machine learning algorithms. The range [0, 1] is common for images and can help the model converge faster during training.\n",
        "\n",
        "2. Zero-Centering: By adding 0.5, you effectively shift the pixel values from being centered around 0 (e.g., ranging from -0.5 to 0.5) to being centered around 0.5 (e.g., ranging from 0 to 1). This can help reduce bias and make the data more suitable for certain algorithms, especially if they have activation functions that behave better with positive inputs.\n",
        "\n",
        "3. Enhancing Contrast: The transformation can also enhance the contrast of the image. Since it stretches the original pixel values, it can make the differences in brightness and color more noticeable.\n",
        "\n",
        "Overall, this preprocessing step is commonly used to prepare images for machine learning tasks, especially deep learning, as it helps with training stability and performance."
      ],
      "metadata": {
        "id": "ACdxEGklpZH-"
      }
    },
    {
      "cell_type": "code",
      "source": [
        "  x_train, y_train  = torch.tensor(trainset.data[:100], dtype = torch.float64), torch.tensor(trainset.targets[:100])\n",
        "\n",
        "  x_train = x_train/x_train.max()"
      ],
      "metadata": {
        "id": "jXBD5fNlliAx"
      },
      "execution_count": null,
      "outputs": []
    },
    {
      "cell_type": "code",
      "source": [
        "np.unique(y_train)"
      ],
      "metadata": {
        "colab": {
          "base_uri": "https://localhost:8080/"
        },
        "id": "gwr89qdKpsNx",
        "outputId": "8f43ced8-cfcc-4d01-f955-48d52eebbfa1"
      },
      "execution_count": null,
      "outputs": [
        {
          "output_type": "execute_result",
          "data": {
            "text/plain": [
              "array([0, 1, 2, 3, 4, 5, 6, 7, 8, 9])"
            ]
          },
          "metadata": {},
          "execution_count": 19
        }
      ]
    },
    {
      "cell_type": "code",
      "source": [
        "y_train_ohe = F.one_hot(y_train, num_classes = 10).type(torch.float32)\n",
        "\n",
        "print(y_train[0], y_train_ohe[0])"
      ],
      "metadata": {
        "colab": {
          "base_uri": "https://localhost:8080/"
        },
        "id": "e88gayZxtnCF",
        "outputId": "87d5cb39-b027-40c7-c455-9f3e269d286d"
      },
      "execution_count": null,
      "outputs": [
        {
          "output_type": "stream",
          "name": "stdout",
          "text": [
            "tensor(6) tensor([0., 0., 0., 0., 0., 0., 1., 0., 0., 0.])\n"
          ]
        }
      ]
    },
    {
      "cell_type": "code",
      "source": [
        "class FFN(nn.Module):\n",
        "\n",
        "  def __init__(self):\n",
        "    super(FFN, self).__init__()\n",
        "    self.a1 = nn.Linear(32*32*3, 1024)\n",
        "    self.a2 = nn.Linear(1024, 10)\n",
        "\n",
        "  def forward(self, x):\n",
        "    h1 = torch.relu(self.a1(x.reshape(1, 32*32*3)))\n",
        "    h2 = self.a2(h1)\n",
        "    return h2"
      ],
      "metadata": {
        "id": "yzljxilCvqr3"
      },
      "execution_count": null,
      "outputs": []
    },
    {
      "cell_type": "code",
      "source": [],
      "metadata": {
        "id": "THQwactkw_vA"
      },
      "execution_count": null,
      "outputs": []
    }
  ]
}